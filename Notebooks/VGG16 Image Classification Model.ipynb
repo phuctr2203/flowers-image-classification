{
  "cells": [
    {
      "cell_type": "code",
      "execution_count": 3,
      "metadata": {
        "id": "zt89qmr6vxEI"
      },
      "outputs": [],
      "source": [
        "from torchvision import transforms\n",
        "import numpy as np\n",
        "from torch.utils.data import Dataset, DataLoader, random_split\n",
        "from torchvision import datasets\n",
        "from torchvision.transforms import ToTensor\n",
        "import matplotlib.pyplot as plt\n",
        "import os\n",
        "from PIL import Image # import PIL library\n",
        "import torch\n",
        "device = \"cuda\""
      ]
    },
    {
      "cell_type": "code",
      "execution_count": 4,
      "metadata": {
        "id": "JVE5d7P6Pdk8"
      },
      "outputs": [],
      "source": [
        "# Define a custom dataset class that inherits from torch.utils.data.Dataset\n",
        "class CustomDataset(Dataset):\n",
        "    def __init__(self, root):\n",
        "        # Root is the directory that contains all the class folders\n",
        "        self.root = root\n",
        "        self.folders_paths = [os.path.join(root, folder) for folder in os.listdir(root)]\n",
        "        self.classes = [folder.split(\"/\")[-1] for folder in self.folders_paths]\n",
        "        self.files = []\n",
        "        for label, folder_path in enumerate(self.folders_paths):\n",
        "            for file_name in os.listdir(folder_path):\n",
        "                file_path = os.path.join(folder_path, file_name)\n",
        "                self.files.append((file_path, label))\n",
        "\n",
        "    def __getitem__(self, idx):\n",
        "        # Return a sample and its corresponding label\n",
        "        file_path, label = self.files[idx]\n",
        "        # Open the image using PIL\n",
        "        image = Image.open(file_path).convert('RGB')\n",
        "        # Note: This returns an image in the form of a PIL object\n",
        "        return image, label\n",
        "\n",
        "    def __len__(self):\n",
        "        # Return the number of samples\n",
        "        return len(self.files)\n",
        "\n",
        "    \n",
        "# Create an instance of the custom dataset with a given root directory\n",
        "root_dir = \"final_data\"\n",
        "data = CustomDataset(root_dir)\n",
        "\n",
        "# Split the dataset into train (60%), test (20%) and validation (20%) sets\n",
        "train_size = int(0.6 * len(data))\n",
        "test_size = int(0.2 * len(data))\n",
        "val_size = len(data) - train_size - test_size\n",
        "train_data, test_data, val_data = random_split(data, [train_size, test_size, val_size])\n",
        "\n",
        "# Define different transformations for each dataset\n",
        "train_transform  =   transforms.Compose([\n",
        "        transforms.Resize((224, 224)),\n",
        "        transforms.RandomHorizontalFlip(),\n",
        "        transforms.ColorJitter(brightness=0.2, contrast=0.2, saturation=0.1, hue=0.1),\n",
        "        transforms.RandomAffine(degrees=40, translate=None, scale=(1, 2), shear=15),\n",
        "        transforms.ToTensor(),\n",
        "        transforms.Normalize((0.485, 0.456, 0.406), (0.229, 0.224, 0.225))\n",
        "])\n",
        "\n",
        "transform_test = transforms.Compose([\n",
        "    transforms.Resize((224,224)),\n",
        "    transforms.ToTensor(),\n",
        "    transforms.Normalize((0.485, 0.456, 0.406), (0.229, 0.224, 0.225))\n",
        "])\n",
        "\n",
        "# Create a wrapper class to apply the transformations on the fly\n",
        "class TransformDataset(Dataset):\n",
        "    def __init__(self, subset, transform=None):\n",
        "        self.subset = subset\n",
        "        self.transform = transform\n",
        "\n",
        "    def __getitem__(self, index):\n",
        "        x, y = self.subset[index]\n",
        "        if self.transform:\n",
        "            x = self.transform(x)\n",
        "        return x, y\n",
        "\n",
        "    def __len__(self):\n",
        "        return len(self.subset)\n",
        "\n",
        "# Create transformed datasets using the wrapper class\n",
        "train_data = TransformDataset(train_data, transform=train_transform)\n",
        "test_data = TransformDataset(test_data, transform=transform_test)\n",
        "val_data = TransformDataset(val_data, transform=transform_test)\n",
        "\n",
        "# Create data loaders for each dataset with a given batch size\n",
        "batch_size = 32\n",
        "train_loader = DataLoader(train_data, batch_size=batch_size, shuffle=True)\n",
        "test_loader = DataLoader(test_data, batch_size=batch_size, shuffle=True)\n",
        "val_loader = DataLoader(val_data, batch_size=batch_size, shuffle=True)\n",
        "\n"
      ]
    },
    {
      "attachments": {},
      "cell_type": "markdown",
      "metadata": {
        "id": "EcahQX93Nnb3"
      },
      "source": [
        "### Define a Convolutional Neural Network (CNN)"
      ]
    },
    {
      "cell_type": "code",
      "execution_count": 9,
      "metadata": {
        "id": "5UFp4Wvh0kJM"
      },
      "outputs": [],
      "source": [
        "# TODO: Build and train your network\n",
        "from torchvision.models import vgg16\n",
        "from torch import nn\n",
        "import torch.optim as optim\n",
        "import numpy as np\n",
        "from tqdm import tqdm\n",
        "\n",
        "model = vgg16(weights=None)\n",
        "\n",
        "classifier = nn.Sequential(\n",
        "          nn.Linear(in_features=25088, out_features=512, bias=True),\n",
        "          nn.ReLU(),\n",
        "          nn.Dropout(p=0.5),\n",
        "          nn.Linear(in_features=512, out_features=8, bias=True)\n",
        "        )\n",
        "\n",
        "for param in model.features:\n",
        "    param.requires_grad = True\n",
        "model.classifier = classifier\n",
        "model.to(device)\n",
        "net = model\n",
        "\n",
        "criterion = nn.CrossEntropyLoss()\n",
        "optimiser = optim.SGD(net.parameters(), lr=0.05)"
      ]
    },
    {
      "attachments": {},
      "cell_type": "markdown",
      "metadata": {
        "id": "L_VFEkWQNucU"
      },
      "source": [
        "### Train the network"
      ]
    },
    {
      "cell_type": "code",
      "execution_count": 7,
      "metadata": {
        "id": "YuRyexASyGFN"
      },
      "outputs": [],
      "source": [
        "def validation(net,dl_test):\n",
        "    net.eval()\n",
        "    correct=0\n",
        "    total = 0\n",
        "    for i, data in enumerate(dl_test, 0):\n",
        "        # Get data from each batch. Data is in the format of [inputs, labels]\n",
        "        inputs, labels = data\n",
        "        inputs = inputs.cuda()\n",
        "        labels = labels.cuda()\n",
        "\n",
        "        # Reset the parameter gradients\n",
        "        optimiser.zero_grad()\n",
        "\n",
        "        # Forward pass, backward pass, and optimise\n",
        "        outputs = net(inputs)\n",
        "        \n",
        "        correct += (torch.argmax(outputs,-1) == labels).float().sum()\n",
        "        total += len(labels)\n",
        "\n",
        "    return correct/total"
      ]
    },
    {
      "cell_type": "code",
      "execution_count": 21,
      "metadata": {
        "id": "APoIOn1Tx7OH"
      },
      "outputs": [
        {
          "name": "stderr",
          "output_type": "stream",
          "text": [
            "loss: 2.0730960369110107:  15%|█▍        | 19/127 [00:04<00:24,  4.37it/s]c:\\Users\\Raven\\AppData\\Local\\Programs\\Python\\Python310\\lib\\site-packages\\PIL\\Image.py:992: UserWarning: Palette images with Transparency expressed in bytes should be converted to RGBA images\n",
            "  warnings.warn(\n",
            "loss: 1.9844987392425537: 100%|██████████| 127/127 [00:29<00:00,  4.26it/s]\n"
          ]
        },
        {
          "name": "stdout",
          "output_type": "stream",
          "text": [
            "[epoch: 1] loss: 2.067,val_acc: 0.1596452295780182\n"
          ]
        },
        {
          "name": "stderr",
          "output_type": "stream",
          "text": [
            "loss: 2.0244505405426025: 100%|██████████| 127/127 [00:29<00:00,  4.25it/s]\n"
          ]
        },
        {
          "name": "stdout",
          "output_type": "stream",
          "text": [
            "[epoch: 2] loss: 2.046,val_acc: 0.190687358379364\n"
          ]
        },
        {
          "name": "stderr",
          "output_type": "stream",
          "text": [
            "loss: 2.046872615814209: 100%|██████████| 127/127 [00:34<00:00,  3.64it/s] \n"
          ]
        },
        {
          "name": "stdout",
          "output_type": "stream",
          "text": [
            "[epoch: 3] loss: 2.032,val_acc: 0.1936437487602234\n"
          ]
        },
        {
          "name": "stderr",
          "output_type": "stream",
          "text": [
            "loss: 1.982298493385315: 100%|██████████| 127/127 [00:44<00:00,  2.87it/s] \n"
          ]
        },
        {
          "name": "stdout",
          "output_type": "stream",
          "text": [
            "[epoch: 4] loss: 1.999,val_acc: 0.21877309679985046\n"
          ]
        },
        {
          "name": "stderr",
          "output_type": "stream",
          "text": [
            "loss: 2.0973434448242188: 100%|██████████| 127/127 [00:44<00:00,  2.88it/s]\n"
          ]
        },
        {
          "name": "stdout",
          "output_type": "stream",
          "text": [
            "[epoch: 5] loss: 1.934,val_acc: 0.190687358379364\n"
          ]
        },
        {
          "name": "stderr",
          "output_type": "stream",
          "text": [
            "loss: 2.0404157638549805: 100%|██████████| 127/127 [00:44<00:00,  2.88it/s]\n"
          ]
        },
        {
          "name": "stdout",
          "output_type": "stream",
          "text": [
            "[epoch: 6] loss: 1.947,val_acc: 0.2328159660100937\n"
          ]
        },
        {
          "name": "stderr",
          "output_type": "stream",
          "text": [
            "loss: 1.7642492055892944: 100%|██████████| 127/127 [00:44<00:00,  2.88it/s]\n"
          ]
        },
        {
          "name": "stdout",
          "output_type": "stream",
          "text": [
            "[epoch: 7] loss: 1.891,val_acc: 0.2793791592121124\n"
          ]
        },
        {
          "name": "stderr",
          "output_type": "stream",
          "text": [
            "loss: 1.5657365322113037: 100%|██████████| 127/127 [00:44<00:00,  2.88it/s]\n"
          ]
        },
        {
          "name": "stdout",
          "output_type": "stream",
          "text": [
            "[epoch: 8] loss: 1.827,val_acc: 0.3311160206794739\n"
          ]
        },
        {
          "name": "stderr",
          "output_type": "stream",
          "text": [
            "loss: 1.8868738412857056: 100%|██████████| 127/127 [00:44<00:00,  2.88it/s]\n"
          ]
        },
        {
          "name": "stdout",
          "output_type": "stream",
          "text": [
            "[epoch: 9] loss: 1.794,val_acc: 0.31707316637039185\n"
          ]
        },
        {
          "name": "stderr",
          "output_type": "stream",
          "text": [
            "loss: 1.6710972785949707: 100%|██████████| 127/127 [00:44<00:00,  2.88it/s]\n"
          ]
        },
        {
          "name": "stdout",
          "output_type": "stream",
          "text": [
            "[epoch: 10] loss: 1.747,val_acc: 0.3414634168148041\n"
          ]
        },
        {
          "name": "stderr",
          "output_type": "stream",
          "text": [
            "loss: 1.745048999786377: 100%|██████████| 127/127 [00:44<00:00,  2.88it/s] \n"
          ]
        },
        {
          "name": "stdout",
          "output_type": "stream",
          "text": [
            "[epoch: 11] loss: 1.713,val_acc: 0.3695491552352905\n"
          ]
        },
        {
          "name": "stderr",
          "output_type": "stream",
          "text": [
            "loss: 1.6447104215621948: 100%|██████████| 127/127 [00:44<00:00,  2.88it/s]\n"
          ]
        },
        {
          "name": "stdout",
          "output_type": "stream",
          "text": [
            "[epoch: 12] loss: 1.659,val_acc: 0.42645972967147827\n"
          ]
        },
        {
          "name": "stderr",
          "output_type": "stream",
          "text": [
            "loss: 1.515755295753479: 100%|██████████| 127/127 [00:44<00:00,  2.88it/s] \n"
          ]
        },
        {
          "name": "stdout",
          "output_type": "stream",
          "text": [
            "[epoch: 13] loss: 1.643,val_acc: 0.37841832637786865\n"
          ]
        },
        {
          "name": "stderr",
          "output_type": "stream",
          "text": [
            "loss: 1.6002787351608276: 100%|██████████| 127/127 [00:44<00:00,  2.88it/s]\n"
          ]
        },
        {
          "name": "stdout",
          "output_type": "stream",
          "text": [
            "[epoch: 14] loss: 1.630,val_acc: 0.3555062711238861\n"
          ]
        },
        {
          "name": "stderr",
          "output_type": "stream",
          "text": [
            "loss: 1.606266975402832: 100%|██████████| 127/127 [00:44<00:00,  2.88it/s] \n"
          ]
        },
        {
          "name": "stdout",
          "output_type": "stream",
          "text": [
            "[epoch: 15] loss: 1.619,val_acc: 0.3311160206794739\n"
          ]
        },
        {
          "name": "stderr",
          "output_type": "stream",
          "text": [
            "loss: 1.3232972621917725: 100%|██████████| 127/127 [00:44<00:00,  2.88it/s]\n"
          ]
        },
        {
          "name": "stdout",
          "output_type": "stream",
          "text": [
            "[epoch: 16] loss: 1.599,val_acc: 0.43976348638534546\n"
          ]
        },
        {
          "name": "stderr",
          "output_type": "stream",
          "text": [
            "loss: 1.469947338104248: 100%|██████████| 127/127 [00:44<00:00,  2.88it/s] \n"
          ]
        },
        {
          "name": "stdout",
          "output_type": "stream",
          "text": [
            "[epoch: 17] loss: 1.529,val_acc: 0.421286016702652\n"
          ]
        },
        {
          "name": "stderr",
          "output_type": "stream",
          "text": [
            "loss: 1.8836394548416138: 100%|██████████| 127/127 [00:44<00:00,  2.88it/s]\n"
          ]
        },
        {
          "name": "stdout",
          "output_type": "stream",
          "text": [
            "[epoch: 18] loss: 1.496,val_acc: 0.37694013118743896\n"
          ]
        },
        {
          "name": "stderr",
          "output_type": "stream",
          "text": [
            "loss: 1.3153098821640015: 100%|██████████| 127/127 [00:44<00:00,  2.88it/s]\n"
          ]
        },
        {
          "name": "stdout",
          "output_type": "stream",
          "text": [
            "[epoch: 19] loss: 1.497,val_acc: 0.4693274199962616\n"
          ]
        },
        {
          "name": "stderr",
          "output_type": "stream",
          "text": [
            "loss: 1.213143229484558: 100%|██████████| 127/127 [00:44<00:00,  2.88it/s] \n"
          ]
        },
        {
          "name": "stdout",
          "output_type": "stream",
          "text": [
            "[epoch: 20] loss: 1.492,val_acc: 0.4663710296154022\n"
          ]
        },
        {
          "name": "stderr",
          "output_type": "stream",
          "text": [
            "loss: 1.6989365816116333: 100%|██████████| 127/127 [00:44<00:00,  2.88it/s]\n"
          ]
        },
        {
          "name": "stdout",
          "output_type": "stream",
          "text": [
            "[epoch: 21] loss: 1.443,val_acc: 0.4286770224571228\n"
          ]
        },
        {
          "name": "stderr",
          "output_type": "stream",
          "text": [
            "loss: 1.2776758670806885: 100%|██████████| 127/127 [00:44<00:00,  2.88it/s]\n"
          ]
        },
        {
          "name": "stdout",
          "output_type": "stream",
          "text": [
            "[epoch: 22] loss: 1.448,val_acc: 0.47524020075798035\n"
          ]
        },
        {
          "name": "stderr",
          "output_type": "stream",
          "text": [
            "loss: 1.3902928829193115: 100%|██████████| 127/127 [00:44<00:00,  2.88it/s]\n"
          ]
        },
        {
          "name": "stdout",
          "output_type": "stream",
          "text": [
            "[epoch: 23] loss: 1.398,val_acc: 0.5114560127258301\n"
          ]
        },
        {
          "name": "stderr",
          "output_type": "stream",
          "text": [
            "loss: 1.601660966873169: 100%|██████████| 127/127 [00:44<00:00,  2.88it/s] \n"
          ]
        },
        {
          "name": "stdout",
          "output_type": "stream",
          "text": [
            "[epoch: 24] loss: 1.376,val_acc: 0.4951958656311035\n"
          ]
        },
        {
          "name": "stderr",
          "output_type": "stream",
          "text": [
            "loss: 1.3210678100585938: 100%|██████████| 127/127 [00:44<00:00,  2.88it/s]\n"
          ]
        },
        {
          "name": "stdout",
          "output_type": "stream",
          "text": [
            "[epoch: 25] loss: 1.343,val_acc: 0.5269770622253418\n"
          ]
        },
        {
          "name": "stderr",
          "output_type": "stream",
          "text": [
            "loss: 2.1912119388580322: 100%|██████████| 127/127 [00:37<00:00,  3.36it/s]\n"
          ]
        },
        {
          "name": "stdout",
          "output_type": "stream",
          "text": [
            "[epoch: 26] loss: 1.317,val_acc: 0.26237988471984863\n"
          ]
        },
        {
          "name": "stderr",
          "output_type": "stream",
          "text": [
            "loss: 1.488350510597229: 100%|██████████| 127/127 [00:29<00:00,  4.31it/s] \n"
          ]
        },
        {
          "name": "stdout",
          "output_type": "stream",
          "text": [
            "[epoch: 27] loss: 1.365,val_acc: 0.5351071357727051\n"
          ]
        },
        {
          "name": "stderr",
          "output_type": "stream",
          "text": [
            "loss: 1.1443825960159302: 100%|██████████| 127/127 [00:29<00:00,  4.31it/s]\n"
          ]
        },
        {
          "name": "stdout",
          "output_type": "stream",
          "text": [
            "[epoch: 28] loss: 1.290,val_acc: 0.486326664686203\n"
          ]
        },
        {
          "name": "stderr",
          "output_type": "stream",
          "text": [
            "loss: 0.75357586145401: 100%|██████████| 127/127 [00:29<00:00,  4.31it/s]  \n"
          ]
        },
        {
          "name": "stdout",
          "output_type": "stream",
          "text": [
            "[epoch: 29] loss: 1.259,val_acc: 0.4589800536632538\n"
          ]
        },
        {
          "name": "stderr",
          "output_type": "stream",
          "text": [
            "loss: 1.608860969543457: 100%|██████████| 127/127 [00:29<00:00,  4.31it/s] \n"
          ]
        },
        {
          "name": "stdout",
          "output_type": "stream",
          "text": [
            "[epoch: 30] loss: 1.257,val_acc: 0.4611973464488983\n"
          ]
        },
        {
          "name": "stderr",
          "output_type": "stream",
          "text": [
            "loss: 0.8235606551170349: 100%|██████████| 127/127 [00:29<00:00,  4.31it/s]\n"
          ]
        },
        {
          "name": "stdout",
          "output_type": "stream",
          "text": [
            "[epoch: 31] loss: 1.242,val_acc: 0.5321507453918457\n"
          ]
        },
        {
          "name": "stderr",
          "output_type": "stream",
          "text": [
            "loss: 1.131270408630371: 100%|██████████| 127/127 [00:29<00:00,  4.31it/s] \n"
          ]
        },
        {
          "name": "stdout",
          "output_type": "stream",
          "text": [
            "[epoch: 32] loss: 1.197,val_acc: 0.5084996223449707\n"
          ]
        },
        {
          "name": "stderr",
          "output_type": "stream",
          "text": [
            "loss: 1.204642415046692: 100%|██████████| 127/127 [00:29<00:00,  4.31it/s] \n"
          ]
        },
        {
          "name": "stdout",
          "output_type": "stream",
          "text": [
            "[epoch: 33] loss: 1.229,val_acc: 0.5402808785438538\n"
          ]
        },
        {
          "name": "stderr",
          "output_type": "stream",
          "text": [
            "loss: 1.2758979797363281: 100%|██████████| 127/127 [00:29<00:00,  4.30it/s]\n"
          ]
        },
        {
          "name": "stdout",
          "output_type": "stream",
          "text": [
            "[epoch: 34] loss: 1.169,val_acc: 0.5469327569007874\n"
          ]
        },
        {
          "name": "stderr",
          "output_type": "stream",
          "text": [
            "loss: 1.1880745887756348: 100%|██████████| 127/127 [00:29<00:00,  4.31it/s]\n"
          ]
        },
        {
          "name": "stdout",
          "output_type": "stream",
          "text": [
            "[epoch: 35] loss: 1.114,val_acc: 0.5018477439880371\n"
          ]
        },
        {
          "name": "stderr",
          "output_type": "stream",
          "text": [
            "loss: 0.8872246742248535: 100%|██████████| 127/127 [00:29<00:00,  4.31it/s]\n"
          ]
        },
        {
          "name": "stdout",
          "output_type": "stream",
          "text": [
            "[epoch: 36] loss: 1.140,val_acc: 0.6031042337417603\n"
          ]
        },
        {
          "name": "stderr",
          "output_type": "stream",
          "text": [
            "loss: 0.9183523654937744: 100%|██████████| 127/127 [00:29<00:00,  4.32it/s]\n"
          ]
        },
        {
          "name": "stdout",
          "output_type": "stream",
          "text": [
            "[epoch: 37] loss: 1.097,val_acc: 0.5986695885658264\n"
          ]
        },
        {
          "name": "stderr",
          "output_type": "stream",
          "text": [
            "loss: 1.1007908582687378: 100%|██████████| 127/127 [00:29<00:00,  4.31it/s]\n"
          ]
        },
        {
          "name": "stdout",
          "output_type": "stream",
          "text": [
            "[epoch: 38] loss: 1.062,val_acc: 0.6341463327407837\n"
          ]
        },
        {
          "name": "stderr",
          "output_type": "stream",
          "text": [
            "loss: 0.9788706302642822: 100%|██████████| 127/127 [00:29<00:00,  4.31it/s]\n"
          ]
        },
        {
          "name": "stdout",
          "output_type": "stream",
          "text": [
            "[epoch: 39] loss: 1.080,val_acc: 0.5602365136146545\n"
          ]
        },
        {
          "name": "stderr",
          "output_type": "stream",
          "text": [
            "loss: 1.0314724445343018: 100%|██████████| 127/127 [00:29<00:00,  4.31it/s]\n"
          ]
        },
        {
          "name": "stdout",
          "output_type": "stream",
          "text": [
            "[epoch: 40] loss: 1.058,val_acc: 0.5779748558998108\n"
          ]
        },
        {
          "name": "stderr",
          "output_type": "stream",
          "text": [
            "loss: 1.1268296241760254: 100%|██████████| 127/127 [00:29<00:00,  4.31it/s]\n"
          ]
        },
        {
          "name": "stdout",
          "output_type": "stream",
          "text": [
            "[epoch: 41] loss: 1.029,val_acc: 0.6045824289321899\n"
          ]
        },
        {
          "name": "stderr",
          "output_type": "stream",
          "text": [
            "loss: 0.8164306282997131: 100%|██████████| 127/127 [00:29<00:00,  4.31it/s]\n"
          ]
        },
        {
          "name": "stdout",
          "output_type": "stream",
          "text": [
            "[epoch: 42] loss: 1.009,val_acc: 0.5905395150184631\n"
          ]
        },
        {
          "name": "stderr",
          "output_type": "stream",
          "text": [
            "loss: 1.5322171449661255: 100%|██████████| 127/127 [00:29<00:00,  4.31it/s]\n"
          ]
        },
        {
          "name": "stdout",
          "output_type": "stream",
          "text": [
            "[epoch: 43] loss: 0.992,val_acc: 0.4981522560119629\n"
          ]
        },
        {
          "name": "stderr",
          "output_type": "stream",
          "text": [
            "loss: 0.8974185585975647: 100%|██████████| 127/127 [00:29<00:00,  4.31it/s]\n"
          ]
        },
        {
          "name": "stdout",
          "output_type": "stream",
          "text": [
            "[epoch: 44] loss: 0.998,val_acc: 0.6171470880508423\n"
          ]
        },
        {
          "name": "stderr",
          "output_type": "stream",
          "text": [
            "loss: 0.9488456845283508: 100%|██████████| 127/127 [00:29<00:00,  4.32it/s]\n"
          ]
        },
        {
          "name": "stdout",
          "output_type": "stream",
          "text": [
            "[epoch: 45] loss: 0.984,val_acc: 0.6526237726211548\n"
          ]
        },
        {
          "name": "stderr",
          "output_type": "stream",
          "text": [
            "loss: 1.1092253923416138: 100%|██████████| 127/127 [00:29<00:00,  4.31it/s]\n"
          ]
        },
        {
          "name": "stdout",
          "output_type": "stream",
          "text": [
            "[epoch: 46] loss: 0.958,val_acc: 0.6348854303359985\n"
          ]
        },
        {
          "name": "stderr",
          "output_type": "stream",
          "text": [
            "loss: 1.076895833015442: 100%|██████████| 127/127 [00:29<00:00,  4.31it/s] \n"
          ]
        },
        {
          "name": "stdout",
          "output_type": "stream",
          "text": [
            "[epoch: 47] loss: 0.927,val_acc: 0.6407982110977173\n"
          ]
        },
        {
          "name": "stderr",
          "output_type": "stream",
          "text": [
            "loss: 0.6418919563293457: 100%|██████████| 127/127 [00:29<00:00,  4.31it/s] \n"
          ]
        },
        {
          "name": "stdout",
          "output_type": "stream",
          "text": [
            "[epoch: 48] loss: 0.898,val_acc: 0.656319260597229\n"
          ]
        },
        {
          "name": "stderr",
          "output_type": "stream",
          "text": [
            "loss: 0.621671736240387: 100%|██████████| 127/127 [00:29<00:00,  4.30it/s] \n"
          ]
        },
        {
          "name": "stdout",
          "output_type": "stream",
          "text": [
            "[epoch: 49] loss: 0.904,val_acc: 0.6274944543838501\n"
          ]
        },
        {
          "name": "stderr",
          "output_type": "stream",
          "text": [
            "loss: 0.6904114484786987: 100%|██████████| 127/127 [00:29<00:00,  4.29it/s]\n"
          ]
        },
        {
          "name": "stdout",
          "output_type": "stream",
          "text": [
            "[epoch: 50] loss: 0.907,val_acc: 0.6555801630020142\n"
          ]
        },
        {
          "name": "stderr",
          "output_type": "stream",
          "text": [
            "loss: 0.8682537078857422: 100%|██████████| 127/127 [00:29<00:00,  4.29it/s]\n"
          ]
        },
        {
          "name": "stdout",
          "output_type": "stream",
          "text": [
            "[epoch: 51] loss: 0.862,val_acc: 0.6548410654067993\n"
          ]
        },
        {
          "name": "stderr",
          "output_type": "stream",
          "text": [
            "loss: 1.1762701272964478: 100%|██████████| 127/127 [00:29<00:00,  4.31it/s]\n"
          ]
        },
        {
          "name": "stdout",
          "output_type": "stream",
          "text": [
            "[epoch: 52] loss: 0.857,val_acc: 0.6873614192008972\n"
          ]
        },
        {
          "name": "stderr",
          "output_type": "stream",
          "text": [
            "loss: 0.5025816559791565: 100%|██████████| 127/127 [00:29<00:00,  4.31it/s] \n"
          ]
        },
        {
          "name": "stdout",
          "output_type": "stream",
          "text": [
            "[epoch: 53] loss: 0.826,val_acc: 0.6518846750259399\n"
          ]
        },
        {
          "name": "stderr",
          "output_type": "stream",
          "text": [
            "loss: 1.1915452480316162: 100%|██████████| 127/127 [00:29<00:00,  4.30it/s]\n"
          ]
        },
        {
          "name": "stdout",
          "output_type": "stream",
          "text": [
            "[epoch: 54] loss: 0.838,val_acc: 0.656319260597229\n"
          ]
        },
        {
          "name": "stderr",
          "output_type": "stream",
          "text": [
            "loss: 0.7575940489768982: 100%|██████████| 127/127 [00:29<00:00,  4.31it/s]\n"
          ]
        },
        {
          "name": "stdout",
          "output_type": "stream",
          "text": [
            "[epoch: 55] loss: 0.802,val_acc: 0.6629711985588074\n"
          ]
        },
        {
          "name": "stderr",
          "output_type": "stream",
          "text": [
            "loss: 0.8618336915969849: 100%|██████████| 127/127 [00:29<00:00,  4.30it/s]\n"
          ]
        },
        {
          "name": "stdout",
          "output_type": "stream",
          "text": [
            "[epoch: 56] loss: 0.810,val_acc: 0.6888396143913269\n"
          ]
        },
        {
          "name": "stderr",
          "output_type": "stream",
          "text": [
            "loss: 1.0445371866226196: 100%|██████████| 127/127 [00:29<00:00,  4.31it/s] \n"
          ]
        },
        {
          "name": "stdout",
          "output_type": "stream",
          "text": [
            "[epoch: 57] loss: 0.764,val_acc: 0.5498891472816467\n"
          ]
        },
        {
          "name": "stderr",
          "output_type": "stream",
          "text": [
            "loss: 0.5157267451286316: 100%|██████████| 127/127 [00:29<00:00,  4.29it/s]\n"
          ]
        },
        {
          "name": "stdout",
          "output_type": "stream",
          "text": [
            "[epoch: 58] loss: 0.770,val_acc: 0.669623076915741\n"
          ]
        },
        {
          "name": "stderr",
          "output_type": "stream",
          "text": [
            "loss: 0.8633652925491333: 100%|██████████| 127/127 [00:29<00:00,  4.30it/s]\n"
          ]
        },
        {
          "name": "stdout",
          "output_type": "stream",
          "text": [
            "[epoch: 59] loss: 0.774,val_acc: 0.656319260597229\n"
          ]
        },
        {
          "name": "stderr",
          "output_type": "stream",
          "text": [
            "loss: 0.6685047745704651: 100%|██████████| 127/127 [00:29<00:00,  4.31it/s]\n"
          ]
        },
        {
          "name": "stdout",
          "output_type": "stream",
          "text": [
            "[epoch: 60] loss: 0.768,val_acc: 0.6489282846450806\n"
          ]
        },
        {
          "name": "stderr",
          "output_type": "stream",
          "text": [
            "loss: 0.6072579622268677: 100%|██████████| 127/127 [00:29<00:00,  4.31it/s] \n"
          ]
        },
        {
          "name": "stdout",
          "output_type": "stream",
          "text": [
            "[epoch: 61] loss: 0.728,val_acc: 0.6954914927482605\n"
          ]
        },
        {
          "name": "stderr",
          "output_type": "stream",
          "text": [
            "loss: 0.8931350111961365: 100%|██████████| 127/127 [00:29<00:00,  4.32it/s] \n"
          ]
        },
        {
          "name": "stdout",
          "output_type": "stream",
          "text": [
            "[epoch: 62] loss: 0.726,val_acc: 0.6629711985588074\n"
          ]
        },
        {
          "name": "stderr",
          "output_type": "stream",
          "text": [
            "loss: 0.7052773833274841: 100%|██████████| 127/127 [00:29<00:00,  4.31it/s] \n"
          ]
        },
        {
          "name": "stdout",
          "output_type": "stream",
          "text": [
            "[epoch: 63] loss: 0.720,val_acc: 0.5875831246376038\n"
          ]
        },
        {
          "name": "stderr",
          "output_type": "stream",
          "text": [
            "loss: 0.7680718302726746: 100%|██████████| 127/127 [00:29<00:00,  4.31it/s] \n"
          ]
        },
        {
          "name": "stdout",
          "output_type": "stream",
          "text": [
            "[epoch: 64] loss: 0.733,val_acc: 0.7021433711051941\n"
          ]
        },
        {
          "name": "stderr",
          "output_type": "stream",
          "text": [
            "loss: 0.8293414115905762: 100%|██████████| 127/127 [00:29<00:00,  4.31it/s] \n"
          ]
        },
        {
          "name": "stdout",
          "output_type": "stream",
          "text": [
            "[epoch: 65] loss: 0.699,val_acc: 0.6659275889396667\n"
          ]
        },
        {
          "name": "stderr",
          "output_type": "stream",
          "text": [
            "loss: 0.514920175075531: 100%|██████████| 127/127 [00:29<00:00,  4.31it/s]  \n"
          ]
        },
        {
          "name": "stdout",
          "output_type": "stream",
          "text": [
            "[epoch: 66] loss: 0.716,val_acc: 0.7280118465423584\n"
          ]
        },
        {
          "name": "stderr",
          "output_type": "stream",
          "text": [
            "loss: 0.4870631694793701: 100%|██████████| 127/127 [00:29<00:00,  4.31it/s] \n"
          ]
        },
        {
          "name": "stdout",
          "output_type": "stream",
          "text": [
            "[epoch: 67] loss: 0.667,val_acc: 0.6866223216056824\n"
          ]
        },
        {
          "name": "stderr",
          "output_type": "stream",
          "text": [
            "loss: 0.4743445813655853: 100%|██████████| 127/127 [00:29<00:00,  4.31it/s] \n"
          ]
        },
        {
          "name": "stdout",
          "output_type": "stream",
          "text": [
            "[epoch: 68] loss: 0.671,val_acc: 0.693274199962616\n"
          ]
        },
        {
          "name": "stderr",
          "output_type": "stream",
          "text": [
            "loss: 1.1278188228607178: 100%|██████████| 127/127 [00:29<00:00,  4.31it/s] \n"
          ]
        },
        {
          "name": "stdout",
          "output_type": "stream",
          "text": [
            "[epoch: 69] loss: 0.650,val_acc: 0.7065779566764832\n"
          ]
        },
        {
          "name": "stderr",
          "output_type": "stream",
          "text": [
            "loss: 0.7856694459915161: 100%|██████████| 127/127 [00:29<00:00,  4.31it/s]\n"
          ]
        },
        {
          "name": "stdout",
          "output_type": "stream",
          "text": [
            "[epoch: 70] loss: 0.661,val_acc: 0.707317054271698\n"
          ]
        },
        {
          "name": "stderr",
          "output_type": "stream",
          "text": [
            "loss: 0.7832642793655396: 100%|██████████| 127/127 [00:29<00:00,  4.31it/s] \n"
          ]
        },
        {
          "name": "stdout",
          "output_type": "stream",
          "text": [
            "[epoch: 71] loss: 0.632,val_acc: 0.7028824687004089\n"
          ]
        },
        {
          "name": "stderr",
          "output_type": "stream",
          "text": [
            "loss: 0.372341513633728: 100%|██████████| 127/127 [00:29<00:00,  4.31it/s]  \n"
          ]
        },
        {
          "name": "stdout",
          "output_type": "stream",
          "text": [
            "[epoch: 72] loss: 0.630,val_acc: 0.7198817133903503\n"
          ]
        },
        {
          "name": "stderr",
          "output_type": "stream",
          "text": [
            "loss: 0.5487894415855408: 100%|██████████| 127/127 [00:29<00:00,  4.31it/s] \n"
          ]
        },
        {
          "name": "stdout",
          "output_type": "stream",
          "text": [
            "[epoch: 73] loss: 0.628,val_acc: 0.6984478831291199\n"
          ]
        },
        {
          "name": "stderr",
          "output_type": "stream",
          "text": [
            "loss: 0.4328795075416565: 100%|██████████| 127/127 [00:29<00:00,  4.32it/s] \n"
          ]
        },
        {
          "name": "stdout",
          "output_type": "stream",
          "text": [
            "[epoch: 74] loss: 0.602,val_acc: 0.7324464321136475\n"
          ]
        },
        {
          "name": "stderr",
          "output_type": "stream",
          "text": [
            "loss: 0.6365184187889099: 100%|██████████| 127/127 [00:29<00:00,  4.31it/s] \n"
          ]
        },
        {
          "name": "stdout",
          "output_type": "stream",
          "text": [
            "[epoch: 75] loss: 0.596,val_acc: 0.7154471278190613\n"
          ]
        },
        {
          "name": "stderr",
          "output_type": "stream",
          "text": [
            "loss: 0.37710970640182495: 100%|██████████| 127/127 [00:29<00:00,  4.31it/s]\n"
          ]
        },
        {
          "name": "stdout",
          "output_type": "stream",
          "text": [
            "[epoch: 76] loss: 0.571,val_acc: 0.7243162989616394\n"
          ]
        },
        {
          "name": "stderr",
          "output_type": "stream",
          "text": [
            "loss: 0.3772864043712616: 100%|██████████| 127/127 [00:29<00:00,  4.31it/s] \n"
          ]
        },
        {
          "name": "stdout",
          "output_type": "stream",
          "text": [
            "[epoch: 77] loss: 0.581,val_acc: 0.7420547008514404\n"
          ]
        },
        {
          "name": "stderr",
          "output_type": "stream",
          "text": [
            "loss: 0.6282452940940857: 100%|██████████| 127/127 [00:29<00:00,  4.31it/s] \n"
          ]
        },
        {
          "name": "stdout",
          "output_type": "stream",
          "text": [
            "[epoch: 78] loss: 0.575,val_acc: 0.7206208109855652\n"
          ]
        },
        {
          "name": "stderr",
          "output_type": "stream",
          "text": [
            "loss: 0.3360954225063324: 100%|██████████| 127/127 [00:29<00:00,  4.31it/s] \n"
          ]
        },
        {
          "name": "stdout",
          "output_type": "stream",
          "text": [
            "[epoch: 79] loss: 0.578,val_acc: 0.7124907374382019\n"
          ]
        },
        {
          "name": "stderr",
          "output_type": "stream",
          "text": [
            "loss: 0.6102911829948425: 100%|██████████| 127/127 [00:29<00:00,  4.31it/s] \n"
          ]
        },
        {
          "name": "stdout",
          "output_type": "stream",
          "text": [
            "[epoch: 80] loss: 0.532,val_acc: 0.6917960047721863\n"
          ]
        },
        {
          "name": "stderr",
          "output_type": "stream",
          "text": [
            "loss: 0.45665568113327026: 100%|██████████| 127/127 [00:29<00:00,  4.32it/s]\n"
          ]
        },
        {
          "name": "stdout",
          "output_type": "stream",
          "text": [
            "[epoch: 81] loss: 0.559,val_acc: 0.7280118465423584\n"
          ]
        },
        {
          "name": "stderr",
          "output_type": "stream",
          "text": [
            "loss: 0.4871194064617157: 100%|██████████| 127/127 [00:29<00:00,  4.31it/s] \n"
          ]
        },
        {
          "name": "stdout",
          "output_type": "stream",
          "text": [
            "[epoch: 82] loss: 0.554,val_acc: 0.7368810176849365\n"
          ]
        },
        {
          "name": "stderr",
          "output_type": "stream",
          "text": [
            "loss: 0.5877224206924438: 100%|██████████| 127/127 [00:29<00:00,  4.31it/s] \n"
          ]
        },
        {
          "name": "stdout",
          "output_type": "stream",
          "text": [
            "[epoch: 83] loss: 0.513,val_acc: 0.72135990858078\n"
          ]
        },
        {
          "name": "stderr",
          "output_type": "stream",
          "text": [
            "loss: 0.4167799651622772: 100%|██████████| 127/127 [00:29<00:00,  4.31it/s] \n"
          ]
        },
        {
          "name": "stdout",
          "output_type": "stream",
          "text": [
            "[epoch: 84] loss: 0.513,val_acc: 0.6888396143913269\n"
          ]
        },
        {
          "name": "stderr",
          "output_type": "stream",
          "text": [
            "loss: 0.4040306806564331: 100%|██████████| 127/127 [00:29<00:00,  4.31it/s] \n"
          ]
        },
        {
          "name": "stdout",
          "output_type": "stream",
          "text": [
            "[epoch: 85] loss: 0.504,val_acc: 0.7198817133903503\n"
          ]
        },
        {
          "name": "stderr",
          "output_type": "stream",
          "text": [
            "loss: 0.3289484679698944: 100%|██████████| 127/127 [00:29<00:00,  4.32it/s] \n"
          ]
        },
        {
          "name": "stdout",
          "output_type": "stream",
          "text": [
            "[epoch: 86] loss: 0.495,val_acc: 0.7147080302238464\n"
          ]
        },
        {
          "name": "stderr",
          "output_type": "stream",
          "text": [
            "loss: 0.7148594856262207: 100%|██████████| 127/127 [00:29<00:00,  4.31it/s] \n"
          ]
        },
        {
          "name": "stdout",
          "output_type": "stream",
          "text": [
            "[epoch: 87] loss: 0.526,val_acc: 0.7102734446525574\n"
          ]
        },
        {
          "name": "stderr",
          "output_type": "stream",
          "text": [
            "loss: 0.1546916961669922: 100%|██████████| 127/127 [00:29<00:00,  4.31it/s] \n"
          ]
        },
        {
          "name": "stdout",
          "output_type": "stream",
          "text": [
            "[epoch: 88] loss: 0.484,val_acc: 0.7383592128753662\n"
          ]
        },
        {
          "name": "stderr",
          "output_type": "stream",
          "text": [
            "loss: 0.5774920582771301: 100%|██████████| 127/127 [00:29<00:00,  4.31it/s] \n"
          ]
        },
        {
          "name": "stdout",
          "output_type": "stream",
          "text": [
            "[epoch: 89] loss: 0.479,val_acc: 0.7257945537567139\n"
          ]
        },
        {
          "name": "stderr",
          "output_type": "stream",
          "text": [
            "loss: 0.43075770139694214: 100%|██████████| 127/127 [00:29<00:00,  4.31it/s]\n"
          ]
        },
        {
          "name": "stdout",
          "output_type": "stream",
          "text": [
            "[epoch: 90] loss: 0.486,val_acc: 0.7413156032562256\n"
          ]
        },
        {
          "name": "stderr",
          "output_type": "stream",
          "text": [
            "loss: 0.45061179995536804: 100%|██████████| 127/127 [00:29<00:00,  4.32it/s]\n"
          ]
        },
        {
          "name": "stdout",
          "output_type": "stream",
          "text": [
            "[epoch: 91] loss: 0.455,val_acc: 0.6674057841300964\n"
          ]
        },
        {
          "name": "stderr",
          "output_type": "stream",
          "text": [
            "loss: 0.5980983376502991: 100%|██████████| 127/127 [00:29<00:00,  4.31it/s] \n"
          ]
        },
        {
          "name": "stdout",
          "output_type": "stream",
          "text": [
            "[epoch: 92] loss: 0.458,val_acc: 0.7110125422477722\n"
          ]
        },
        {
          "name": "stderr",
          "output_type": "stream",
          "text": [
            "loss: 0.309550017118454: 100%|██████████| 127/127 [00:29<00:00,  4.32it/s]  \n"
          ]
        },
        {
          "name": "stdout",
          "output_type": "stream",
          "text": [
            "[epoch: 93] loss: 0.438,val_acc: 0.6903178095817566\n"
          ]
        },
        {
          "name": "stderr",
          "output_type": "stream",
          "text": [
            "loss: 0.3776136636734009: 100%|██████████| 127/127 [00:29<00:00,  4.32it/s] \n"
          ]
        },
        {
          "name": "stdout",
          "output_type": "stream",
          "text": [
            "[epoch: 94] loss: 0.450,val_acc: 0.7309682369232178\n"
          ]
        },
        {
          "name": "stderr",
          "output_type": "stream",
          "text": [
            "loss: 0.5130547285079956: 100%|██████████| 127/127 [00:29<00:00,  4.29it/s] \n"
          ]
        },
        {
          "name": "stdout",
          "output_type": "stream",
          "text": [
            "[epoch: 95] loss: 0.427,val_acc: 0.7191426157951355\n"
          ]
        },
        {
          "name": "stderr",
          "output_type": "stream",
          "text": [
            "loss: 0.5710451006889343: 100%|██████████| 127/127 [00:29<00:00,  4.31it/s] \n"
          ]
        },
        {
          "name": "stdout",
          "output_type": "stream",
          "text": [
            "[epoch: 96] loss: 0.436,val_acc: 0.7250553965568542\n"
          ]
        },
        {
          "name": "stderr",
          "output_type": "stream",
          "text": [
            "loss: 0.13467194139957428: 100%|██████████| 127/127 [00:29<00:00,  4.32it/s]\n"
          ]
        },
        {
          "name": "stdout",
          "output_type": "stream",
          "text": [
            "[epoch: 97] loss: 0.426,val_acc: 0.7235772013664246\n"
          ]
        },
        {
          "name": "stderr",
          "output_type": "stream",
          "text": [
            "loss: 0.3021523058414459: 100%|██████████| 127/127 [00:29<00:00,  4.31it/s] \n"
          ]
        },
        {
          "name": "stdout",
          "output_type": "stream",
          "text": [
            "[epoch: 98] loss: 0.412,val_acc: 0.7361419200897217\n"
          ]
        },
        {
          "name": "stderr",
          "output_type": "stream",
          "text": [
            "loss: 0.6714264750480652: 100%|██████████| 127/127 [00:29<00:00,  4.31it/s] \n"
          ]
        },
        {
          "name": "stdout",
          "output_type": "stream",
          "text": [
            "[epoch: 99] loss: 0.414,val_acc: 0.7095343470573425\n"
          ]
        },
        {
          "name": "stderr",
          "output_type": "stream",
          "text": [
            "loss: 0.5220749974250793: 100%|██████████| 127/127 [00:29<00:00,  4.31it/s] \n"
          ]
        },
        {
          "name": "stdout",
          "output_type": "stream",
          "text": [
            "[epoch: 100] loss: 0.442,val_acc: 0.7243162989616394\n"
          ]
        },
        {
          "name": "stderr",
          "output_type": "stream",
          "text": [
            "loss: 0.8304249048233032: 100%|██████████| 127/127 [00:29<00:00,  4.31it/s] \n"
          ]
        },
        {
          "name": "stdout",
          "output_type": "stream",
          "text": [
            "[epoch: 101] loss: 0.380,val_acc: 0.7235772013664246\n"
          ]
        },
        {
          "name": "stderr",
          "output_type": "stream",
          "text": [
            "loss: 0.12575307488441467: 100%|██████████| 127/127 [00:29<00:00,  4.30it/s]\n"
          ]
        },
        {
          "name": "stdout",
          "output_type": "stream",
          "text": [
            "[epoch: 102] loss: 0.393,val_acc: 0.758314847946167\n"
          ]
        },
        {
          "name": "stderr",
          "output_type": "stream",
          "text": [
            "loss: 0.1734626442193985: 100%|██████████| 127/127 [00:29<00:00,  4.29it/s] \n"
          ]
        },
        {
          "name": "stdout",
          "output_type": "stream",
          "text": [
            "[epoch: 103] loss: 0.377,val_acc: 0.772357702255249\n"
          ]
        },
        {
          "name": "stderr",
          "output_type": "stream",
          "text": [
            "loss: 0.2945196330547333: 100%|██████████| 127/127 [00:29<00:00,  4.30it/s] \n"
          ]
        },
        {
          "name": "stdout",
          "output_type": "stream",
          "text": [
            "[epoch: 104] loss: 0.396,val_acc: 0.7280118465423584\n"
          ]
        },
        {
          "name": "stderr",
          "output_type": "stream",
          "text": [
            "loss: 0.1339768022298813: 100%|██████████| 127/127 [00:29<00:00,  4.30it/s] \n"
          ]
        },
        {
          "name": "stdout",
          "output_type": "stream",
          "text": [
            "[epoch: 105] loss: 0.404,val_acc: 0.7450110912322998\n"
          ]
        },
        {
          "name": "stderr",
          "output_type": "stream",
          "text": [
            "loss: 0.45750635862350464: 100%|██████████| 127/127 [00:29<00:00,  4.31it/s]\n"
          ]
        },
        {
          "name": "stdout",
          "output_type": "stream",
          "text": [
            "[epoch: 106] loss: 0.357,val_acc: 0.762749433517456\n"
          ]
        },
        {
          "name": "stderr",
          "output_type": "stream",
          "text": [
            "loss: 0.3816896080970764: 100%|██████████| 127/127 [00:29<00:00,  4.30it/s] \n"
          ]
        },
        {
          "name": "stdout",
          "output_type": "stream",
          "text": [
            "[epoch: 107] loss: 0.360,val_acc: 0.7110125422477722\n"
          ]
        },
        {
          "name": "stderr",
          "output_type": "stream",
          "text": [
            "loss: 0.25044429302215576: 100%|██████████| 127/127 [00:29<00:00,  4.31it/s]\n"
          ]
        },
        {
          "name": "stdout",
          "output_type": "stream",
          "text": [
            "[epoch: 108] loss: 0.380,val_acc: 0.7620103359222412\n"
          ]
        },
        {
          "name": "stderr",
          "output_type": "stream",
          "text": [
            "loss: 0.5893555879592896: 100%|██████████| 127/127 [00:29<00:00,  4.32it/s] \n"
          ]
        },
        {
          "name": "stdout",
          "output_type": "stream",
          "text": [
            "[epoch: 109] loss: 0.349,val_acc: 0.7265336513519287\n"
          ]
        },
        {
          "name": "stderr",
          "output_type": "stream",
          "text": [
            "loss: 0.3178167939186096: 100%|██████████| 127/127 [00:29<00:00,  4.32it/s] \n"
          ]
        },
        {
          "name": "stdout",
          "output_type": "stream",
          "text": [
            "[epoch: 110] loss: 0.342,val_acc: 0.7494456768035889\n"
          ]
        },
        {
          "name": "stderr",
          "output_type": "stream",
          "text": [
            "loss: 0.24291256070137024: 100%|██████████| 127/127 [00:29<00:00,  4.31it/s]\n"
          ]
        },
        {
          "name": "stdout",
          "output_type": "stream",
          "text": [
            "[epoch: 111] loss: 0.364,val_acc: 0.6755358576774597\n"
          ]
        },
        {
          "name": "stderr",
          "output_type": "stream",
          "text": [
            "loss: 0.42987731099128723: 100%|██████████| 127/127 [00:29<00:00,  4.31it/s]\n"
          ]
        },
        {
          "name": "stdout",
          "output_type": "stream",
          "text": [
            "[epoch: 112] loss: 0.343,val_acc: 0.7634885311126709\n"
          ]
        },
        {
          "name": "stderr",
          "output_type": "stream",
          "text": [
            "loss: 0.3357078731060028: 100%|██████████| 127/127 [00:29<00:00,  4.29it/s] \n"
          ]
        },
        {
          "name": "stdout",
          "output_type": "stream",
          "text": [
            "[epoch: 113] loss: 0.330,val_acc: 0.748706579208374\n"
          ]
        },
        {
          "name": "stderr",
          "output_type": "stream",
          "text": [
            "loss: 0.36476248502731323: 100%|██████████| 127/127 [00:29<00:00,  4.31it/s]\n"
          ]
        },
        {
          "name": "stdout",
          "output_type": "stream",
          "text": [
            "[epoch: 114] loss: 0.336,val_acc: 0.7649667263031006\n"
          ]
        },
        {
          "name": "stderr",
          "output_type": "stream",
          "text": [
            "loss: 0.24593617022037506: 100%|██████████| 127/127 [00:29<00:00,  4.30it/s]\n"
          ]
        },
        {
          "name": "stdout",
          "output_type": "stream",
          "text": [
            "[epoch: 115] loss: 0.356,val_acc: 0.758314847946167\n"
          ]
        },
        {
          "name": "stderr",
          "output_type": "stream",
          "text": [
            "loss: 0.1708938032388687: 100%|██████████| 127/127 [00:29<00:00,  4.31it/s] \n"
          ]
        },
        {
          "name": "stdout",
          "output_type": "stream",
          "text": [
            "[epoch: 116] loss: 0.325,val_acc: 0.7730967998504639\n"
          ]
        },
        {
          "name": "stderr",
          "output_type": "stream",
          "text": [
            "loss: 0.19841943681240082: 100%|██████████| 127/127 [00:29<00:00,  4.31it/s]\n"
          ]
        },
        {
          "name": "stdout",
          "output_type": "stream",
          "text": [
            "[epoch: 117] loss: 0.337,val_acc: 0.7250553965568542\n"
          ]
        },
        {
          "name": "stderr",
          "output_type": "stream",
          "text": [
            "loss: 0.615487813949585: 100%|██████████| 127/127 [00:29<00:00,  4.31it/s]  \n"
          ]
        },
        {
          "name": "stdout",
          "output_type": "stream",
          "text": [
            "[epoch: 118] loss: 0.311,val_acc: 0.683665931224823\n"
          ]
        },
        {
          "name": "stderr",
          "output_type": "stream",
          "text": [
            "loss: 0.8035545349121094: 100%|██████████| 127/127 [00:29<00:00,  4.31it/s] \n"
          ]
        },
        {
          "name": "stdout",
          "output_type": "stream",
          "text": [
            "[epoch: 119] loss: 0.330,val_acc: 0.6481891870498657\n"
          ]
        },
        {
          "name": "stderr",
          "output_type": "stream",
          "text": [
            "loss: 0.550852358341217: 100%|██████████| 127/127 [00:29<00:00,  4.31it/s]  \n"
          ]
        },
        {
          "name": "stdout",
          "output_type": "stream",
          "text": [
            "[epoch: 120] loss: 0.315,val_acc: 0.7287509441375732\n"
          ]
        },
        {
          "name": "stderr",
          "output_type": "stream",
          "text": [
            "loss: 0.1844104528427124: 100%|██████████| 127/127 [00:29<00:00,  4.31it/s] \n"
          ]
        },
        {
          "name": "stdout",
          "output_type": "stream",
          "text": [
            "[epoch: 121] loss: 0.291,val_acc: 0.7753140926361084\n"
          ]
        },
        {
          "name": "stderr",
          "output_type": "stream",
          "text": [
            "loss: 0.3114470839500427: 100%|██████████| 127/127 [00:29<00:00,  4.30it/s] \n"
          ]
        },
        {
          "name": "stdout",
          "output_type": "stream",
          "text": [
            "[epoch: 122] loss: 0.315,val_acc: 0.7413156032562256\n"
          ]
        },
        {
          "name": "stderr",
          "output_type": "stream",
          "text": [
            "loss: 0.2671585977077484: 100%|██████████| 127/127 [00:29<00:00,  4.31it/s] \n"
          ]
        },
        {
          "name": "stdout",
          "output_type": "stream",
          "text": [
            "[epoch: 123] loss: 0.302,val_acc: 0.7701404094696045\n"
          ]
        },
        {
          "name": "stderr",
          "output_type": "stream",
          "text": [
            "loss: 0.5575887560844421: 100%|██████████| 127/127 [00:29<00:00,  4.31it/s] \n"
          ]
        },
        {
          "name": "stdout",
          "output_type": "stream",
          "text": [
            "[epoch: 124] loss: 0.299,val_acc: 0.7095343470573425\n"
          ]
        },
        {
          "name": "stderr",
          "output_type": "stream",
          "text": [
            "loss: 0.1821317970752716: 100%|██████████| 127/127 [00:29<00:00,  4.30it/s] \n"
          ]
        },
        {
          "name": "stdout",
          "output_type": "stream",
          "text": [
            "[epoch: 125] loss: 0.284,val_acc: 0.7176644206047058\n"
          ]
        },
        {
          "name": "stderr",
          "output_type": "stream",
          "text": [
            "loss: 0.1944882720708847: 100%|██████████| 127/127 [00:29<00:00,  4.30it/s] \n"
          ]
        },
        {
          "name": "stdout",
          "output_type": "stream",
          "text": [
            "[epoch: 126] loss: 0.289,val_acc: 0.7708795070648193\n"
          ]
        },
        {
          "name": "stderr",
          "output_type": "stream",
          "text": [
            "loss: 0.3900262713432312: 100%|██████████| 127/127 [00:29<00:00,  4.31it/s] \n"
          ]
        },
        {
          "name": "stdout",
          "output_type": "stream",
          "text": [
            "[epoch: 127] loss: 0.290,val_acc: 0.7745749950408936\n"
          ]
        },
        {
          "name": "stderr",
          "output_type": "stream",
          "text": [
            "loss: 0.27623236179351807: 100%|██████████| 127/127 [00:29<00:00,  4.31it/s]\n"
          ]
        },
        {
          "name": "stdout",
          "output_type": "stream",
          "text": [
            "[epoch: 128] loss: 0.287,val_acc: 0.762749433517456\n"
          ]
        },
        {
          "name": "stderr",
          "output_type": "stream",
          "text": [
            "loss: 0.24120302498340607: 100%|██████████| 127/127 [00:29<00:00,  4.32it/s]\n"
          ]
        },
        {
          "name": "stdout",
          "output_type": "stream",
          "text": [
            "[epoch: 129] loss: 0.286,val_acc: 0.7701404094696045\n"
          ]
        },
        {
          "name": "stderr",
          "output_type": "stream",
          "text": [
            "loss: 0.6718526482582092: 100%|██████████| 127/127 [00:29<00:00,  4.32it/s] \n"
          ]
        },
        {
          "name": "stdout",
          "output_type": "stream",
          "text": [
            "[epoch: 130] loss: 0.277,val_acc: 0.7324464321136475\n"
          ]
        },
        {
          "name": "stderr",
          "output_type": "stream",
          "text": [
            "loss: 0.4625362455844879: 100%|██████████| 127/127 [00:29<00:00,  4.31it/s] \n"
          ]
        },
        {
          "name": "stdout",
          "output_type": "stream",
          "text": [
            "[epoch: 131] loss: 0.264,val_acc: 0.7250553965568542\n"
          ]
        },
        {
          "name": "stderr",
          "output_type": "stream",
          "text": [
            "loss: 0.2785458266735077: 100%|██████████| 127/127 [00:29<00:00,  4.31it/s] \n"
          ]
        },
        {
          "name": "stdout",
          "output_type": "stream",
          "text": [
            "[epoch: 132] loss: 0.305,val_acc: 0.7657058238983154\n"
          ]
        },
        {
          "name": "stderr",
          "output_type": "stream",
          "text": [
            "loss: 0.2354404479265213: 100%|██████████| 127/127 [00:29<00:00,  4.31it/s] \n"
          ]
        },
        {
          "name": "stdout",
          "output_type": "stream",
          "text": [
            "[epoch: 133] loss: 0.246,val_acc: 0.7834441661834717\n"
          ]
        },
        {
          "name": "stderr",
          "output_type": "stream",
          "text": [
            "loss: 0.1812865287065506: 100%|██████████| 127/127 [00:29<00:00,  4.31it/s] \n"
          ]
        },
        {
          "name": "stdout",
          "output_type": "stream",
          "text": [
            "[epoch: 134] loss: 0.247,val_acc: 0.7538802623748779\n"
          ]
        },
        {
          "name": "stderr",
          "output_type": "stream",
          "text": [
            "loss: 0.26753297448158264: 100%|██████████| 127/127 [00:29<00:00,  4.31it/s]\n"
          ]
        },
        {
          "name": "stdout",
          "output_type": "stream",
          "text": [
            "[epoch: 135] loss: 0.272,val_acc: 0.7590539455413818\n"
          ]
        },
        {
          "name": "stderr",
          "output_type": "stream",
          "text": [
            "loss: 0.11356991529464722: 100%|██████████| 127/127 [00:29<00:00,  4.31it/s]\n"
          ]
        },
        {
          "name": "stdout",
          "output_type": "stream",
          "text": [
            "[epoch: 136] loss: 0.329,val_acc: 0.7812268733978271\n"
          ]
        },
        {
          "name": "stderr",
          "output_type": "stream",
          "text": [
            "loss: 0.2873603403568268: 100%|██████████| 127/127 [00:29<00:00,  4.32it/s] \n"
          ]
        },
        {
          "name": "stdout",
          "output_type": "stream",
          "text": [
            "[epoch: 137] loss: 0.255,val_acc: 0.7597930431365967\n"
          ]
        },
        {
          "name": "stderr",
          "output_type": "stream",
          "text": [
            "loss: 0.17373937368392944: 100%|██████████| 127/127 [00:29<00:00,  4.31it/s]\n"
          ]
        },
        {
          "name": "stdout",
          "output_type": "stream",
          "text": [
            "[epoch: 138] loss: 0.238,val_acc: 0.7043606638908386\n"
          ]
        },
        {
          "name": "stderr",
          "output_type": "stream",
          "text": [
            "loss: 0.19773760437965393: 100%|██████████| 127/127 [00:29<00:00,  4.32it/s] \n"
          ]
        },
        {
          "name": "stdout",
          "output_type": "stream",
          "text": [
            "[epoch: 139] loss: 0.242,val_acc: 0.7538802623748779\n"
          ]
        },
        {
          "name": "stderr",
          "output_type": "stream",
          "text": [
            "loss: 0.1611431986093521: 100%|██████████| 127/127 [00:29<00:00,  4.31it/s]  \n"
          ]
        },
        {
          "name": "stdout",
          "output_type": "stream",
          "text": [
            "[epoch: 140] loss: 0.245,val_acc: 0.758314847946167\n"
          ]
        },
        {
          "name": "stderr",
          "output_type": "stream",
          "text": [
            "loss: 0.0999177023768425: 100%|██████████| 127/127 [00:29<00:00,  4.31it/s]  \n"
          ]
        },
        {
          "name": "stdout",
          "output_type": "stream",
          "text": [
            "[epoch: 141] loss: 0.262,val_acc: 0.7716186046600342\n"
          ]
        },
        {
          "name": "stderr",
          "output_type": "stream",
          "text": [
            "loss: 0.30428239703178406: 100%|██████████| 127/127 [00:29<00:00,  4.31it/s]\n"
          ]
        },
        {
          "name": "stdout",
          "output_type": "stream",
          "text": [
            "[epoch: 142] loss: 0.222,val_acc: 0.7686622142791748\n"
          ]
        },
        {
          "name": "stderr",
          "output_type": "stream",
          "text": [
            "loss: 0.3076491057872772: 100%|██████████| 127/127 [00:29<00:00,  4.31it/s] \n"
          ]
        },
        {
          "name": "stdout",
          "output_type": "stream",
          "text": [
            "[epoch: 143] loss: 0.226,val_acc: 0.7405765056610107\n"
          ]
        },
        {
          "name": "stderr",
          "output_type": "stream",
          "text": [
            "loss: 0.21917517483234406: 100%|██████████| 127/127 [00:29<00:00,  4.31it/s]\n"
          ]
        },
        {
          "name": "stdout",
          "output_type": "stream",
          "text": [
            "[epoch: 144] loss: 0.261,val_acc: 0.7597930431365967\n"
          ]
        },
        {
          "name": "stderr",
          "output_type": "stream",
          "text": [
            "loss: 0.17988517880439758: 100%|██████████| 127/127 [00:29<00:00,  4.31it/s]\n"
          ]
        },
        {
          "name": "stdout",
          "output_type": "stream",
          "text": [
            "[epoch: 145] loss: 0.255,val_acc: 0.7708795070648193\n"
          ]
        },
        {
          "name": "stderr",
          "output_type": "stream",
          "text": [
            "loss: 0.2809741795063019: 100%|██████████| 127/127 [00:29<00:00,  4.30it/s] \n"
          ]
        },
        {
          "name": "stdout",
          "output_type": "stream",
          "text": [
            "[epoch: 146] loss: 0.225,val_acc: 0.758314847946167\n"
          ]
        },
        {
          "name": "stderr",
          "output_type": "stream",
          "text": [
            "loss: 0.24407655000686646: 100%|██████████| 127/127 [00:29<00:00,  4.30it/s]\n"
          ]
        },
        {
          "name": "stdout",
          "output_type": "stream",
          "text": [
            "[epoch: 147] loss: 0.219,val_acc: 0.762749433517456\n"
          ]
        },
        {
          "name": "stderr",
          "output_type": "stream",
          "text": [
            "loss: 0.4789600074291229: 100%|██████████| 127/127 [00:29<00:00,  4.31it/s] \n"
          ]
        },
        {
          "name": "stdout",
          "output_type": "stream",
          "text": [
            "[epoch: 148] loss: 0.221,val_acc: 0.693274199962616\n"
          ]
        },
        {
          "name": "stderr",
          "output_type": "stream",
          "text": [
            "loss: 0.2625228464603424: 100%|██████████| 127/127 [00:29<00:00,  4.31it/s]  \n"
          ]
        },
        {
          "name": "stdout",
          "output_type": "stream",
          "text": [
            "[epoch: 149] loss: 0.226,val_acc: 0.7664449214935303\n"
          ]
        },
        {
          "name": "stderr",
          "output_type": "stream",
          "text": [
            "loss: 0.1672375649213791: 100%|██████████| 127/127 [00:29<00:00,  4.31it/s] \n"
          ]
        },
        {
          "name": "stdout",
          "output_type": "stream",
          "text": [
            "[epoch: 150] loss: 0.217,val_acc: 0.7184035181999207\n"
          ]
        },
        {
          "name": "stderr",
          "output_type": "stream",
          "text": [
            "loss: 0.24926511943340302: 100%|██████████| 127/127 [00:29<00:00,  4.31it/s]\n"
          ]
        },
        {
          "name": "stdout",
          "output_type": "stream",
          "text": [
            "[epoch: 151] loss: 0.218,val_acc: 0.7790095806121826\n"
          ]
        },
        {
          "name": "stderr",
          "output_type": "stream",
          "text": [
            "loss: 0.0516202375292778: 100%|██████████| 127/127 [00:29<00:00,  4.31it/s] \n"
          ]
        },
        {
          "name": "stdout",
          "output_type": "stream",
          "text": [
            "[epoch: 152] loss: 0.232,val_acc: 0.7782704830169678\n"
          ]
        },
        {
          "name": "stderr",
          "output_type": "stream",
          "text": [
            "loss: 0.2962280213832855: 100%|██████████| 127/127 [00:29<00:00,  4.30it/s] \n"
          ]
        },
        {
          "name": "stdout",
          "output_type": "stream",
          "text": [
            "[epoch: 153] loss: 0.194,val_acc: 0.748706579208374\n"
          ]
        },
        {
          "name": "stderr",
          "output_type": "stream",
          "text": [
            "loss: 0.3733045160770416: 100%|██████████| 127/127 [00:29<00:00,  4.31it/s]  \n"
          ]
        },
        {
          "name": "stdout",
          "output_type": "stream",
          "text": [
            "[epoch: 154] loss: 0.205,val_acc: 0.7568366527557373\n"
          ]
        },
        {
          "name": "stderr",
          "output_type": "stream",
          "text": [
            "loss: 0.6728817224502563: 100%|██████████| 127/127 [00:29<00:00,  4.31it/s] \n"
          ]
        },
        {
          "name": "stdout",
          "output_type": "stream",
          "text": [
            "[epoch: 155] loss: 0.220,val_acc: 0.7250553965568542\n"
          ]
        },
        {
          "name": "stderr",
          "output_type": "stream",
          "text": [
            "loss: 0.24355605244636536: 100%|██████████| 127/127 [00:29<00:00,  4.30it/s]\n"
          ]
        },
        {
          "name": "stdout",
          "output_type": "stream",
          "text": [
            "[epoch: 156] loss: 0.231,val_acc: 0.7546193599700928\n"
          ]
        },
        {
          "name": "stderr",
          "output_type": "stream",
          "text": [
            "loss: 0.3389817476272583: 100%|██████████| 127/127 [00:29<00:00,  4.30it/s]  \n"
          ]
        },
        {
          "name": "stdout",
          "output_type": "stream",
          "text": [
            "[epoch: 157] loss: 0.228,val_acc: 0.7649667263031006\n"
          ]
        },
        {
          "name": "stderr",
          "output_type": "stream",
          "text": [
            "loss: 0.12448137998580933: 100%|██████████| 127/127 [00:29<00:00,  4.31it/s]\n"
          ]
        },
        {
          "name": "stdout",
          "output_type": "stream",
          "text": [
            "[epoch: 158] loss: 0.188,val_acc: 0.7575757503509521\n"
          ]
        },
        {
          "name": "stderr",
          "output_type": "stream",
          "text": [
            "loss: 0.30755603313446045: 100%|██████████| 127/127 [00:29<00:00,  4.30it/s]\n"
          ]
        },
        {
          "name": "stdout",
          "output_type": "stream",
          "text": [
            "[epoch: 159] loss: 0.192,val_acc: 0.7472283840179443\n"
          ]
        },
        {
          "name": "stderr",
          "output_type": "stream",
          "text": [
            "loss: 0.0511028952896595: 100%|██████████| 127/127 [00:29<00:00,  4.30it/s] \n"
          ]
        },
        {
          "name": "stdout",
          "output_type": "stream",
          "text": [
            "[epoch: 160] loss: 0.199,val_acc: 0.7494456768035889\n"
          ]
        },
        {
          "name": "stderr",
          "output_type": "stream",
          "text": [
            "loss: 0.32510510087013245: 100%|██████████| 127/127 [00:29<00:00,  4.32it/s]\n"
          ]
        },
        {
          "name": "stdout",
          "output_type": "stream",
          "text": [
            "[epoch: 161] loss: 0.191,val_acc: 0.7730967998504639\n"
          ]
        },
        {
          "name": "stderr",
          "output_type": "stream",
          "text": [
            "loss: 0.23809105157852173: 100%|██████████| 127/127 [00:29<00:00,  4.31it/s]\n"
          ]
        },
        {
          "name": "stdout",
          "output_type": "stream",
          "text": [
            "[epoch: 162] loss: 0.188,val_acc: 0.7368810176849365\n"
          ]
        },
        {
          "name": "stderr",
          "output_type": "stream",
          "text": [
            "loss: 0.07908106595277786: 100%|██████████| 127/127 [00:29<00:00,  4.31it/s]\n"
          ]
        },
        {
          "name": "stdout",
          "output_type": "stream",
          "text": [
            "[epoch: 163] loss: 0.228,val_acc: 0.7694013118743896\n"
          ]
        },
        {
          "name": "stderr",
          "output_type": "stream",
          "text": [
            "loss: 0.18095384538173676: 100%|██████████| 127/127 [00:29<00:00,  4.31it/s] \n"
          ]
        },
        {
          "name": "stdout",
          "output_type": "stream",
          "text": [
            "[epoch: 164] loss: 0.177,val_acc: 0.7568366527557373\n"
          ]
        },
        {
          "name": "stderr",
          "output_type": "stream",
          "text": [
            "loss: 0.32454055547714233: 100%|██████████| 127/127 [00:29<00:00,  4.31it/s]\n"
          ]
        },
        {
          "name": "stdout",
          "output_type": "stream",
          "text": [
            "[epoch: 165] loss: 0.218,val_acc: 0.7568366527557373\n"
          ]
        },
        {
          "name": "stderr",
          "output_type": "stream",
          "text": [
            "loss: 0.12415608018636703: 100%|██████████| 127/127 [00:29<00:00,  4.30it/s] \n"
          ]
        },
        {
          "name": "stdout",
          "output_type": "stream",
          "text": [
            "[epoch: 166] loss: 0.192,val_acc: 0.7753140926361084\n"
          ]
        },
        {
          "name": "stderr",
          "output_type": "stream",
          "text": [
            "loss: 0.09278431534767151: 100%|██████████| 127/127 [00:29<00:00,  4.31it/s] \n"
          ]
        },
        {
          "name": "stdout",
          "output_type": "stream",
          "text": [
            "[epoch: 167] loss: 0.181,val_acc: 0.7886179089546204\n"
          ]
        },
        {
          "name": "stderr",
          "output_type": "stream",
          "text": [
            "loss: 0.27493366599082947: 100%|██████████| 127/127 [00:29<00:00,  4.30it/s]\n"
          ]
        },
        {
          "name": "stdout",
          "output_type": "stream",
          "text": [
            "[epoch: 168] loss: 0.204,val_acc: 0.7753140926361084\n"
          ]
        },
        {
          "name": "stderr",
          "output_type": "stream",
          "text": [
            "loss: 0.179804265499115: 100%|██████████| 127/127 [00:29<00:00,  4.30it/s]   \n"
          ]
        },
        {
          "name": "stdout",
          "output_type": "stream",
          "text": [
            "[epoch: 169] loss: 0.179,val_acc: 0.7642276287078857\n"
          ]
        },
        {
          "name": "stderr",
          "output_type": "stream",
          "text": [
            "loss: 0.05818232521414757: 100%|██████████| 127/127 [00:29<00:00,  4.31it/s] \n"
          ]
        },
        {
          "name": "stdout",
          "output_type": "stream",
          "text": [
            "[epoch: 170] loss: 0.173,val_acc: 0.7708795070648193\n"
          ]
        },
        {
          "name": "stderr",
          "output_type": "stream",
          "text": [
            "loss: 0.039275627583265305: 100%|██████████| 127/127 [00:29<00:00,  4.31it/s]\n"
          ]
        },
        {
          "name": "stdout",
          "output_type": "stream",
          "text": [
            "[epoch: 171] loss: 0.171,val_acc: 0.7804877758026123\n"
          ]
        },
        {
          "name": "stderr",
          "output_type": "stream",
          "text": [
            "loss: 0.05047263950109482: 100%|██████████| 127/127 [00:29<00:00,  4.31it/s] \n"
          ]
        },
        {
          "name": "stdout",
          "output_type": "stream",
          "text": [
            "[epoch: 172] loss: 0.211,val_acc: 0.7812268733978271\n"
          ]
        },
        {
          "name": "stderr",
          "output_type": "stream",
          "text": [
            "loss: 0.058536138385534286: 100%|██████████| 127/127 [00:29<00:00,  4.31it/s]\n"
          ]
        },
        {
          "name": "stdout",
          "output_type": "stream",
          "text": [
            "[epoch: 173] loss: 0.191,val_acc: 0.7775313854217529\n"
          ]
        },
        {
          "name": "stderr",
          "output_type": "stream",
          "text": [
            "loss: 0.23558984696865082: 100%|██████████| 127/127 [00:29<00:00,  4.31it/s] \n"
          ]
        },
        {
          "name": "stdout",
          "output_type": "stream",
          "text": [
            "[epoch: 174] loss: 0.173,val_acc: 0.7560975551605225\n"
          ]
        },
        {
          "name": "stderr",
          "output_type": "stream",
          "text": [
            "loss: 0.09724408388137817: 100%|██████████| 127/127 [00:29<00:00,  4.31it/s] \n"
          ]
        },
        {
          "name": "stdout",
          "output_type": "stream",
          "text": [
            "[epoch: 175] loss: 0.167,val_acc: 0.7560975551605225\n"
          ]
        },
        {
          "name": "stderr",
          "output_type": "stream",
          "text": [
            "loss: 0.07499467581510544: 100%|██████████| 127/127 [00:29<00:00,  4.31it/s]\n"
          ]
        },
        {
          "name": "stdout",
          "output_type": "stream",
          "text": [
            "[epoch: 176] loss: 0.164,val_acc: 0.7708795070648193\n"
          ]
        },
        {
          "name": "stderr",
          "output_type": "stream",
          "text": [
            "loss: 0.231010302901268: 100%|██████████| 127/127 [00:29<00:00,  4.31it/s]   \n"
          ]
        },
        {
          "name": "stdout",
          "output_type": "stream",
          "text": [
            "[epoch: 177] loss: 0.174,val_acc: 0.7095343470573425\n"
          ]
        },
        {
          "name": "stderr",
          "output_type": "stream",
          "text": [
            "loss: 0.04102596640586853: 100%|██████████| 127/127 [00:29<00:00,  4.30it/s] \n"
          ]
        },
        {
          "name": "stdout",
          "output_type": "stream",
          "text": [
            "[epoch: 178] loss: 0.184,val_acc: 0.7893570065498352\n"
          ]
        },
        {
          "name": "stderr",
          "output_type": "stream",
          "text": [
            "loss: 0.10556390881538391: 100%|██████████| 127/127 [00:29<00:00,  4.32it/s]\n"
          ]
        },
        {
          "name": "stdout",
          "output_type": "stream",
          "text": [
            "[epoch: 179] loss: 0.172,val_acc: 0.7649667263031006\n"
          ]
        },
        {
          "name": "stderr",
          "output_type": "stream",
          "text": [
            "loss: 0.028458217158913612: 100%|██████████| 127/127 [00:29<00:00,  4.31it/s]\n"
          ]
        },
        {
          "name": "stdout",
          "output_type": "stream",
          "text": [
            "[epoch: 180] loss: 0.162,val_acc: 0.7886179089546204\n"
          ]
        },
        {
          "name": "stderr",
          "output_type": "stream",
          "text": [
            "loss: 0.03326983377337456: 100%|██████████| 127/127 [00:29<00:00,  4.31it/s]\n"
          ]
        },
        {
          "name": "stdout",
          "output_type": "stream",
          "text": [
            "[epoch: 181] loss: 0.171,val_acc: 0.786400556564331\n"
          ]
        },
        {
          "name": "stderr",
          "output_type": "stream",
          "text": [
            "loss: 0.17352598905563354: 100%|██████████| 127/127 [00:29<00:00,  4.31it/s] \n"
          ]
        },
        {
          "name": "stdout",
          "output_type": "stream",
          "text": [
            "[epoch: 182] loss: 0.152,val_acc: 0.7982261776924133\n"
          ]
        },
        {
          "name": "stderr",
          "output_type": "stream",
          "text": [
            "loss: 0.2966863512992859: 100%|██████████| 127/127 [00:29<00:00,  4.31it/s]  \n"
          ]
        },
        {
          "name": "stdout",
          "output_type": "stream",
          "text": [
            "[epoch: 183] loss: 0.152,val_acc: 0.7797486782073975\n"
          ]
        },
        {
          "name": "stderr",
          "output_type": "stream",
          "text": [
            "loss: 0.08470361679792404: 100%|██████████| 127/127 [00:29<00:00,  4.31it/s]\n"
          ]
        },
        {
          "name": "stdout",
          "output_type": "stream",
          "text": [
            "[epoch: 184] loss: 0.145,val_acc: 0.7708795070648193\n"
          ]
        },
        {
          "name": "stderr",
          "output_type": "stream",
          "text": [
            "loss: 0.4851442277431488: 100%|██████████| 127/127 [00:29<00:00,  4.31it/s] \n"
          ]
        },
        {
          "name": "stdout",
          "output_type": "stream",
          "text": [
            "[epoch: 185] loss: 0.232,val_acc: 0.7597930431365967\n"
          ]
        },
        {
          "name": "stderr",
          "output_type": "stream",
          "text": [
            "loss: 0.11475766450166702: 100%|██████████| 127/127 [00:29<00:00,  4.30it/s] \n"
          ]
        },
        {
          "name": "stdout",
          "output_type": "stream",
          "text": [
            "[epoch: 186] loss: 0.158,val_acc: 0.7597930431365967\n"
          ]
        },
        {
          "name": "stderr",
          "output_type": "stream",
          "text": [
            "loss: 0.25241199135780334: 100%|██████████| 127/127 [00:29<00:00,  4.31it/s]\n"
          ]
        },
        {
          "name": "stdout",
          "output_type": "stream",
          "text": [
            "[epoch: 187] loss: 0.180,val_acc: 0.762749433517456\n"
          ]
        },
        {
          "name": "stderr",
          "output_type": "stream",
          "text": [
            "loss: 0.3528895676136017: 100%|██████████| 127/127 [00:29<00:00,  4.31it/s] \n"
          ]
        },
        {
          "name": "stdout",
          "output_type": "stream",
          "text": [
            "[epoch: 188] loss: 0.150,val_acc: 0.7804877758026123\n"
          ]
        },
        {
          "name": "stderr",
          "output_type": "stream",
          "text": [
            "loss: 0.06152652949094772: 100%|██████████| 127/127 [00:29<00:00,  4.31it/s] \n"
          ]
        },
        {
          "name": "stdout",
          "output_type": "stream",
          "text": [
            "[epoch: 189] loss: 0.142,val_acc: 0.7856614589691162\n"
          ]
        },
        {
          "name": "stderr",
          "output_type": "stream",
          "text": [
            "loss: 0.2688770890235901: 100%|██████████| 127/127 [00:29<00:00,  4.30it/s]  \n"
          ]
        },
        {
          "name": "stdout",
          "output_type": "stream",
          "text": [
            "[epoch: 190] loss: 0.152,val_acc: 0.7760531902313232\n"
          ]
        },
        {
          "name": "stderr",
          "output_type": "stream",
          "text": [
            "loss: 0.19273331761360168: 100%|██████████| 127/127 [00:29<00:00,  4.31it/s]\n"
          ]
        },
        {
          "name": "stdout",
          "output_type": "stream",
          "text": [
            "[epoch: 191] loss: 0.158,val_acc: 0.7701404094696045\n"
          ]
        },
        {
          "name": "stderr",
          "output_type": "stream",
          "text": [
            "loss: 0.08519959449768066: 100%|██████████| 127/127 [00:29<00:00,  4.31it/s] \n"
          ]
        },
        {
          "name": "stdout",
          "output_type": "stream",
          "text": [
            "[epoch: 192] loss: 0.134,val_acc: 0.7642276287078857\n"
          ]
        },
        {
          "name": "stderr",
          "output_type": "stream",
          "text": [
            "loss: 0.04195187985897064: 100%|██████████| 127/127 [00:29<00:00,  4.30it/s] \n"
          ]
        },
        {
          "name": "stdout",
          "output_type": "stream",
          "text": [
            "[epoch: 193] loss: 0.157,val_acc: 0.7790095806121826\n"
          ]
        },
        {
          "name": "stderr",
          "output_type": "stream",
          "text": [
            "loss: 0.03276229277253151: 100%|██████████| 127/127 [00:29<00:00,  4.31it/s] \n"
          ]
        },
        {
          "name": "stdout",
          "output_type": "stream",
          "text": [
            "[epoch: 194] loss: 0.151,val_acc: 0.7538802623748779\n"
          ]
        },
        {
          "name": "stderr",
          "output_type": "stream",
          "text": [
            "loss: 0.20792549848556519: 100%|██████████| 127/127 [00:29<00:00,  4.31it/s]\n"
          ]
        },
        {
          "name": "stdout",
          "output_type": "stream",
          "text": [
            "[epoch: 195] loss: 0.153,val_acc: 0.7509238719940186\n"
          ]
        },
        {
          "name": "stderr",
          "output_type": "stream",
          "text": [
            "loss: 0.1881362348794937: 100%|██████████| 127/127 [00:29<00:00,  4.31it/s]  \n"
          ]
        },
        {
          "name": "stdout",
          "output_type": "stream",
          "text": [
            "[epoch: 196] loss: 0.141,val_acc: 0.7701404094696045\n"
          ]
        },
        {
          "name": "stderr",
          "output_type": "stream",
          "text": [
            "loss: 0.061849165707826614: 100%|██████████| 127/127 [00:29<00:00,  4.31it/s]\n"
          ]
        },
        {
          "name": "stdout",
          "output_type": "stream",
          "text": [
            "[epoch: 197] loss: 0.118,val_acc: 0.7804877758026123\n"
          ]
        },
        {
          "name": "stderr",
          "output_type": "stream",
          "text": [
            "loss: 0.30577489733695984: 100%|██████████| 127/127 [00:29<00:00,  4.31it/s] \n"
          ]
        },
        {
          "name": "stdout",
          "output_type": "stream",
          "text": [
            "[epoch: 198] loss: 0.156,val_acc: 0.7708795070648193\n"
          ]
        },
        {
          "name": "stderr",
          "output_type": "stream",
          "text": [
            "loss: 0.19176651537418365: 100%|██████████| 127/127 [00:29<00:00,  4.31it/s] \n"
          ]
        },
        {
          "name": "stdout",
          "output_type": "stream",
          "text": [
            "[epoch: 199] loss: 0.133,val_acc: 0.7753140926361084\n"
          ]
        },
        {
          "name": "stderr",
          "output_type": "stream",
          "text": [
            "loss: 0.07956047356128693: 100%|██████████| 127/127 [00:29<00:00,  4.31it/s] \n"
          ]
        },
        {
          "name": "stdout",
          "output_type": "stream",
          "text": [
            "[epoch: 200] loss: 0.127,val_acc: 0.7716186046600342\n",
            "Finished Training\n"
          ]
        }
      ],
      "source": [
        "import copy\n",
        "from tqdm import tqdm \n",
        "\n",
        "\n",
        "max_accuracy = 0\n",
        "for epoch in range(200):  # Train for 200 epochs\n",
        "    net.train()\n",
        "    running_loss = 0.0\n",
        "    train_acc = 0.0\n",
        "    correct = 0\n",
        "    pbar = tqdm(train_loader)\n",
        "\n",
        "    for i, data in enumerate(pbar, 0):\n",
        "        # Get data from each batch. Data is in the format of [inputs, labels]\n",
        "        inputs, labels = data\n",
        "        inputs = inputs.cuda()\n",
        "        labels = labels.cuda()\n",
        "\n",
        "        # Reset the parameter gradients\n",
        "        optimiser.zero_grad()\n",
        "\n",
        "        # Forward pass, backward pass, and optimise\n",
        "        outputs = net(inputs)\n",
        "        loss = criterion(outputs, labels)\n",
        "        loss.backward()\n",
        "        optimiser.step()\n",
        "\n",
        "        # Print \n",
        "        pbar.set_description(f\"loss: {str(loss.item())}\")\n",
        "\n",
        "        running_loss += loss.item()\n",
        "        correct += (torch.argmax(outputs,-1) == labels).float().sum()\n",
        "    \n",
        "    train_acc = correct/len(train_data)\n",
        "    validation_acc = validation(net,val_loader)\n",
        "\n",
        "    print(f'[Epoch: {epoch + 1}] train_loss: {running_loss / 127:.3f}, train_acc: {train_acc}, val_acc: {validation_acc}')\n",
        "\n",
        "    if  validation_acc > max_accuracy:\n",
        "        max_accuracy = validation_acc\n",
        "        best_model = copy.deepcopy(net)\n",
        "print('Finished Training')"
      ]
    },
    {
      "attachments": {},
      "cell_type": "markdown",
      "metadata": {
        "id": "F5_WQvCLHlsZ"
      },
      "source": [
        "## Save/Load model."
      ]
    },
    {
      "cell_type": "code",
      "execution_count": 5,
      "metadata": {
        "id": "i30lj0CMHpQH"
      },
      "outputs": [],
      "source": [
        "model_dir = os.path.join(os.getcwd(), 'model-100', 'cnn-new-200e')\n",
        "# if not os.path.exists(model_dir):\n",
        "    # os.makedirs(model_dir)\n",
        "# torch.save(best_model, os.path.join(model_dir, 'model.pth'))\n",
        "best_model = torch.load(os.path.join(model_dir, 'model.pth'))"
      ]
    },
    {
      "attachments": {},
      "cell_type": "markdown",
      "metadata": {
        "id": "J-DbvbUQ2y05"
      },
      "source": [
        "## Validate the models."
      ]
    },
    {
      "cell_type": "code",
      "execution_count": 10,
      "metadata": {
        "id": "AJ771DPA54G1"
      },
      "outputs": [
        {
          "name": "stderr",
          "output_type": "stream",
          "text": [
            "c:\\Users\\Raven\\AppData\\Local\\Programs\\Python\\Python310\\lib\\site-packages\\PIL\\Image.py:992: UserWarning: Palette images with Transparency expressed in bytes should be converted to RGBA images\n",
            "  warnings.warn(\n"
          ]
        },
        {
          "name": "stdout",
          "output_type": "stream",
          "text": [
            "Accuracy on validation data: 0.8854397535324097\n"
          ]
        }
      ],
      "source": [
        "print(f\"Accuracy on validation data: {validation(best_model, test_loader)}\")"
      ]
    }
  ],
  "metadata": {
    "accelerator": "GPU",
    "colab": {
      "provenance": []
    },
    "gpuClass": "standard",
    "kernelspec": {
      "display_name": "Python 3",
      "name": "python3"
    },
    "language_info": {
      "codemirror_mode": {
        "name": "ipython",
        "version": 3
      },
      "file_extension": ".py",
      "mimetype": "text/x-python",
      "name": "python",
      "nbconvert_exporter": "python",
      "pygments_lexer": "ipython3",
      "version": "3.10.6"
    }
  },
  "nbformat": 4,
  "nbformat_minor": 0
}
